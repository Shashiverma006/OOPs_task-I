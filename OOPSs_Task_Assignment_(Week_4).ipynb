{
  "nbformat": 4,
  "nbformat_minor": 0,
  "metadata": {
    "colab": {
      "provenance": [],
      "cell_execution_strategy": "setup"
    },
    "kernelspec": {
      "name": "python3",
      "display_name": "Python 3"
    },
    "language_info": {
      "name": "python"
    }
  },
  "cells": [
    {
      "cell_type": "markdown",
      "source": [
        "Q.1 Create a vehicle class with on init method having instance variables as name_of_vehicle max_speed and average_of_vehicle."
      ],
      "metadata": {
        "id": "1bBTUon8CPNi"
      }
    },
    {
      "cell_type": "code",
      "source": [
        "class vehicle :\n",
        "  def __init__(self,name_of_vehicle,max_speed,average_of_vehicle):\n",
        "    self.name_of_vehicle1 = name_of_vehicle\n",
        "    self.max_speed1 = max_speed\n",
        "    self.average_of_vehicle1 = average_of_vehicle\n",
        "\n",
        "  def return_vehicle_details(self):\n",
        "    return self.name_of_vehicle1,self.max_speed1,self.average_of_vehicle"
      ],
      "metadata": {
        "id": "ia09VrV8P524"
      },
      "execution_count": 1,
      "outputs": []
    },
    {
      "cell_type": "code",
      "source": [
        "car = vehicle(\"Numbergini\", 280, 140)"
      ],
      "metadata": {
        "id": "O0JTYMmpP7Em"
      },
      "execution_count": null,
      "outputs": []
    },
    {
      "cell_type": "code",
      "source": [
        "car.name_of_vehicle1"
      ],
      "metadata": {
        "colab": {
          "base_uri": "https://localhost:8080/",
          "height": 35
        },
        "id": "LDVMGwyzQLlw",
        "outputId": "051534a7-2767-4909-a971-e1c1839a4e08"
      },
      "execution_count": null,
      "outputs": [
        {
          "output_type": "execute_result",
          "data": {
            "text/plain": [
              "'Numbergini'"
            ],
            "application/vnd.google.colaboratory.intrinsic+json": {
              "type": "string"
            }
          },
          "metadata": {},
          "execution_count": 34
        }
      ]
    },
    {
      "cell_type": "code",
      "source": [
        "car.max_speed1"
      ],
      "metadata": {
        "colab": {
          "base_uri": "https://localhost:8080/"
        },
        "id": "VVMfjjaMQPiP",
        "outputId": "95ff8af0-7809-4f87-9417-0e327bdeb5e5"
      },
      "execution_count": null,
      "outputs": [
        {
          "output_type": "execute_result",
          "data": {
            "text/plain": [
              "280"
            ]
          },
          "metadata": {},
          "execution_count": 35
        }
      ]
    },
    {
      "cell_type": "code",
      "source": [
        "car.average_of_vehicle1"
      ],
      "metadata": {
        "colab": {
          "base_uri": "https://localhost:8080/"
        },
        "id": "E9jq2ahBQTCt",
        "outputId": "6fb5f560-88b2-4dec-bb5d-db33a3ef9c5d"
      },
      "execution_count": null,
      "outputs": [
        {
          "output_type": "execute_result",
          "data": {
            "text/plain": [
              "140"
            ]
          },
          "metadata": {},
          "execution_count": 14
        }
      ]
    },
    {
      "cell_type": "markdown",
      "source": [
        "Q2. Create a child class car from the vehicle class created in Que1, which will inherit the vehicle class. Create a method named seating_capacity which takes as an argument and returns the name of the vehicle and its seating capacity."
      ],
      "metadata": {
        "id": "VTOyyK7lQaR_"
      }
    },
    {
      "cell_type": "code",
      "source": [
        "#Parent class\n",
        "class vehicle :\n",
        "  def __init__(self,name_of_vehicle,max_speed,average_of_vehicle,):\n",
        "    self.name_of_vehicle1 = name_of_vehicle\n",
        "    self.max_speed1 = max_speed\n",
        "    self.average_of_vehicle1 = average_of_vehicle\n",
        "\n",
        "#child class\n",
        "class car (vehicle):\n",
        "  def seating_capacity(self):\n",
        "    return self.name_of_vehicle1, seating_capacity\n",
        "self.name_of_vehicle1 = toyota\n",
        "self.max_speed1 = 290\n",
        "self.average_of_vehicle1 = 130"
      ],
      "metadata": {
        "colab": {
          "base_uri": "https://localhost:8080/",
          "height": 130
        },
        "id": "KoxghLUpFPEe",
        "outputId": "888dade7-27d8-4210-8feb-b663044268f7"
      },
      "execution_count": 39,
      "outputs": [
        {
          "output_type": "error",
          "ename": "SyntaxError",
          "evalue": "ignored",
          "traceback": [
            "\u001b[0;36m  File \u001b[0;32m\"<ipython-input-39-8d9b146aed1c>\"\u001b[0;36m, line \u001b[0;32m12\u001b[0m\n\u001b[0;31m    self.name_of_vehicle1 = Royal Enfiled\u001b[0m\n\u001b[0m                                  ^\u001b[0m\n\u001b[0;31mSyntaxError\u001b[0m\u001b[0;31m:\u001b[0m invalid syntax\n"
          ]
        }
      ]
    },
    {
      "cell_type": "markdown",
      "source": [
        "Q3. What is multiple Inheritance? Write a python code to demonstrate multiple inheritance.\n"
      ],
      "metadata": {
        "id": "uH7KARy_qFzq"
      }
    },
    {
      "cell_type": "markdown",
      "source": [
        "Ans:- Inheritance is a process of reuse the already maked property. Supose that I want to Inherite the any poperties the we will be create a child class after that we inherit the other class. When class 2 inherite the class1 and class 3 inherite the class1 & class 2, that is called multiple Inheritance."
      ],
      "metadata": {
        "id": "ySJppGGAqXZt"
      }
    },
    {
      "cell_type": "code",
      "source": [
        "# Python Program to depict multiple inheritance\n",
        "# when every class defines the same method\n",
        "\n",
        "class Class1:\n",
        "    def m(self):\n",
        "        print(\"In Class1\")\n",
        "\n",
        "class Class2(Class1):\n",
        "    def m(self):\n",
        "        print(\"In Class2\")\n",
        "\n",
        "class Class3(Class1):\n",
        "    def m(self):\n",
        "         print(\"In Class3\")\n",
        "\n",
        "class Class4(Class2, Class3):\n",
        "    def m(self):\n",
        "        print(\"In Class4\")\n",
        "\n",
        "obj = Class4()\n",
        "obj.m()\n",
        "\n",
        "Class2.m(obj)\n",
        "Class3.m(obj)\n",
        "Class1.m(obj)"
      ],
      "metadata": {
        "colab": {
          "base_uri": "https://localhost:8080/"
        },
        "id": "ahnrlZnvGcVY",
        "outputId": "0e709423-5ed0-42c8-f8e1-8f4d9ce2a3dc"
      },
      "execution_count": null,
      "outputs": [
        {
          "output_type": "stream",
          "name": "stdout",
          "text": [
            "In Class4\n",
            "In Class2\n",
            "In Class3\n",
            "In Class1\n"
          ]
        }
      ]
    },
    {
      "cell_type": "markdown",
      "source": [
        "\n",
        "Q4. What are the getter and setter in python? create a getter and setter method in this class."
      ],
      "metadata": {
        "id": "KIV_6ujH4fmd"
      }
    },
    {
      "cell_type": "markdown",
      "source": [
        "Ans:- Getter and Setter is a outsider function of the class. the help of Getter and Setter user access, modify or delite the properties in certain condition."
      ],
      "metadata": {
        "id": "aOdCY1Wy5Y-c"
      }
    },
    {
      "cell_type": "code",
      "source": [
        "# Python program showing a use\n",
        "# of get() and set() method in\n",
        "# normal function\n",
        "\n",
        "class kali:\n",
        "    def __init__(self, age = 0):\n",
        "         self._age = age\n",
        "\n",
        "    # getter method\n",
        "    def get_age(self):\n",
        "        return self._age\n",
        "\n",
        "    # setter method\n",
        "    def set_age(self, x):\n",
        "        self._age = x\n",
        "\n",
        "pankhudi = kali()\n",
        "\n",
        "# setting the age using setter\n",
        "pankhudi.set_age(5)\n",
        "\n",
        "# retrieving age using getter\n",
        "print(pankhudi.get_age())\n",
        "\n",
        "print(pankhudi._age)"
      ],
      "metadata": {
        "colab": {
          "base_uri": "https://localhost:8080/"
        },
        "id": "9kCyVr_kHGAm",
        "outputId": "105a0dde-2573-4403-f1bd-bf63a1b9e1ac"
      },
      "execution_count": null,
      "outputs": [
        {
          "output_type": "stream",
          "name": "stdout",
          "text": [
            "5\n",
            "5\n"
          ]
        }
      ]
    },
    {
      "cell_type": "code",
      "source": [
        "class vehicle :\n",
        "  def __init__(self,name_of_vehicle,max_speed,average_of_vehicle):\n",
        "    self.name_of_vehicle1 = name_of_vehicle\n",
        "    self.max_speed1 = max_speed\n",
        "    self.average_of_vehicle1 = average_of_vehicle\n",
        "\n",
        "  def return_vehicle_details(self):\n",
        "    return self.name_of_vehicle1,self.max_speed1,self.average_of_vehicle\n",
        "\n",
        "  @property\n",
        "  def max_speed_access(self) :\n",
        "    return self.max_speed1\n",
        "\n",
        "  @max_speed1_access.setter\n",
        "  def max_speed_set(self, speed):\n",
        "    if speed<=280:\n",
        "      pass\n",
        "    else:\n",
        "      self.__max_speed1 = speed\n",
        "\n"
      ],
      "metadata": {
        "id": "JA3RJ6Kv5ZqT"
      },
      "execution_count": null,
      "outputs": []
    },
    {
      "cell_type": "code",
      "source": [
        "speed=vehicle(\"Royal Enfield\",300, 200)\n",
        "print(speed)"
      ],
      "metadata": {
        "id": "VriXEWFC8GR9",
        "colab": {
          "base_uri": "https://localhost:8080/"
        },
        "outputId": "0af478f7-dcd0-44ca-e433-4dd960bccd02"
      },
      "execution_count": null,
      "outputs": [
        {
          "output_type": "stream",
          "name": "stdout",
          "text": [
            "<__main__.vehicle object at 0x7d3cb719fc70>\n"
          ]
        }
      ]
    },
    {
      "cell_type": "markdown",
      "source": [
        "Q5. What is method overloading in python? Write a python code to demonstrate method overloading."
      ],
      "metadata": {
        "id": "vvHdVFVt-HlX"
      }
    },
    {
      "cell_type": "markdown",
      "source": [
        "Ans:- Overload is as a function within we can find out any detail without using the variable or init method of the support of class method. Their refrence is a cls. Trough the class method we can access or call the any function which is overload the init. The support of class method, we can add, delete or etc internal & external mfunction through the cls."
      ],
      "metadata": {
        "id": "GD8mxns3-YqI"
      }
    },
    {
      "cell_type": "code",
      "source": [
        "class vehicle :\n",
        "  def __init__(self,name_of_vehicle,max_speed,average_of_vehicle):\n",
        "    self.name_of_vehicle = name_of_vehicle\n",
        "    self.max_speed = max_speed\n",
        "    self.average_of_vehicle = average_of_vehicle\n",
        "\n",
        "  @classmethod\n",
        "  def change_name(cls_name_of_vehicle):\n",
        "    vehicle.name_of_vehicle = cls_name_of_vehicle\n",
        "\n",
        "\n",
        "  @classmethod\n",
        "  def details(cls, name_of_vicle, max_speed, average_of_vehicle):\n",
        "    return cls(name_of_vicle, max_speed, average_of_vehicle)\n",
        "\n",
        "  def details(self):\n",
        "    print(self.name_of_vehicle1, self.max_speed1, self.average_of_vehicle1)"
      ],
      "metadata": {
        "id": "CcybQauyA2eK"
      },
      "execution_count": 17,
      "outputs": []
    },
    {
      "cell_type": "code",
      "source": [
        "car = vehicle(\"Numbergini\", 280, 140)\n",
        "car.max_speed\n"
      ],
      "metadata": {
        "colab": {
          "base_uri": "https://localhost:8080/"
        },
        "id": "FPaMmo2z87dQ",
        "outputId": "fb61bed2-9d6b-4228-fe3d-b9d427ee6c73"
      },
      "execution_count": 20,
      "outputs": [
        {
          "output_type": "execute_result",
          "data": {
            "text/plain": [
              "280"
            ]
          },
          "metadata": {},
          "execution_count": 20
        }
      ]
    },
    {
      "cell_type": "code",
      "source": [
        "car.name_of_vehicle\n"
      ],
      "metadata": {
        "colab": {
          "base_uri": "https://localhost:8080/",
          "height": 35
        },
        "id": "K9dhginq9aAb",
        "outputId": "75456cbd-2dd3-4d8b-aa28-94267c32ab98"
      },
      "execution_count": 21,
      "outputs": [
        {
          "output_type": "execute_result",
          "data": {
            "text/plain": [
              "'Numbergini'"
            ],
            "application/vnd.google.colaboratory.intrinsic+json": {
              "type": "string"
            }
          },
          "metadata": {},
          "execution_count": 21
        }
      ]
    },
    {
      "cell_type": "code",
      "source": [
        "car.average_of_vehicle"
      ],
      "metadata": {
        "colab": {
          "base_uri": "https://localhost:8080/"
        },
        "id": "o8HvE4Ii9d7R",
        "outputId": "78fe4515-97d9-43d3-f088-871030472807"
      },
      "execution_count": 22,
      "outputs": [
        {
          "output_type": "execute_result",
          "data": {
            "text/plain": [
              "140"
            ]
          },
          "metadata": {},
          "execution_count": 22
        }
      ]
    },
    {
      "cell_type": "code",
      "source": [
        "class Human:\n",
        "\n",
        "    def sayHello(self, name=None):\n",
        "\n",
        "        if name is not None:\n",
        "            print('Hello ' + name)\n",
        "        else:\n",
        "            print('Hello ')\n",
        "\n",
        "\n",
        "# Create instance\n",
        "obj = Human()\n",
        "\n",
        "# Call the method\n",
        "obj.sayHello()\n"
      ],
      "metadata": {
        "colab": {
          "base_uri": "https://localhost:8080/"
        },
        "id": "lpkcvJME_1XN",
        "outputId": "96002623-3479-4594-9c35-1c2d0ff0f1bb"
      },
      "execution_count": 38,
      "outputs": [
        {
          "output_type": "stream",
          "name": "stdout",
          "text": [
            "Hello \n"
          ]
        }
      ]
    }
  ]
}